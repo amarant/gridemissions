{
 "cells": [
  {
   "cell_type": "markdown",
   "id": "0bf7727e-0f90-47ba-a629-22f60bb2919c",
   "metadata": {},
   "source": [
    "# Heatmaps for carbon intensity in 2020"
   ]
  },
  {
   "cell_type": "code",
   "execution_count": null,
   "id": "aca44465-d261-43ba-95e1-428e4b4d639f",
   "metadata": {},
   "outputs": [],
   "source": [
    "%load_ext autoreload\n",
    "%autoreload 2\n",
    "%matplotlib inline\n",
    "import matplotlib.pyplot as plt\n",
    "import os\n",
    "from os.path import join\n",
    "import logging\n",
    "import json\n",
    "\n",
    "import pandas as pd\n",
    "import gridemissions\n",
    "from gridemissions.load import BaData\n",
    "from gridemissions.viz import set_plots\n"
   ]
  },
  {
   "cell_type": "code",
   "execution_count": null,
   "id": "7d621cd1-994d-4358-8213-4ed6cccbf9f1",
   "metadata": {},
   "outputs": [],
   "source": [
    "COLORS, PAGE_WIDTH, ROW_HEIGHT = set_plots()"
   ]
  },
  {
   "cell_type": "code",
   "execution_count": null,
   "id": "74eccb94-bf21-432f-94ad-efac82d9f4f5",
   "metadata": {},
   "outputs": [],
   "source": [
    "file_name = join(gridemissions.config[\"APEN_PATH\"], \"data\", \"EBA_%s.csv\")\n",
    "co2 = BaData(fileNm=file_name % \"co2\", variable=\"CO2\")\n",
    "elec = BaData(fileNm=file_name % \"elec\", variable=\"E\")"
   ]
  },
  {
   "cell_type": "code",
   "execution_count": null,
   "id": "54212bef-c0a2-49d4-bd9c-886b2a6c730e",
   "metadata": {},
   "outputs": [],
   "source": [
    "start = pd.to_datetime(\"20200101T0000Z\")\n",
    "end = pd.to_datetime(\"20210101T0000Z\")\n",
    "df = co2.df.loc[start:end, co2.get_cols(field=\"D\")].copy()"
   ]
  },
  {
   "cell_type": "code",
   "execution_count": null,
   "id": "116dc775-fb37-4b34-a319-0a9a9d21c2ab",
   "metadata": {},
   "outputs": [],
   "source": [
    "co2.df.index -= pd.Timedelta(\"7h\")"
   ]
  },
  {
   "cell_type": "code",
   "execution_count": null,
   "id": "265a9700-cf13-4261-b8a4-ee4cbfb95122",
   "metadata": {},
   "outputs": [],
   "source": [
    "ba = \"CISO\"\n",
    "co2i = pd.DataFrame({ba: (\n",
    "    co2.df.loc[start:end, co2.get_cols(ba, field=\"D\")].values.flatten()\n",
    "    / elec.df.loc[start:end, elec.get_cols(ba, field=\"D\")].values.flatten())\n",
    " for ba in co2.regions\n",
    "}, index=co2.df.loc[start:end].index)\n",
    "\n",
    "# Store index before shifting\n",
    "utc_idx = co2i.index\n",
    "co2i.index -= pd.Timedelta(\"6h\")"
   ]
  },
  {
   "cell_type": "code",
   "execution_count": null,
   "id": "406d1223-f0be-4a35-ac39-7b55e2c99ca3",
   "metadata": {},
   "outputs": [],
   "source": [
    "PAGE_WIDTH"
   ]
  },
  {
   "cell_type": "code",
   "execution_count": null,
   "id": "d0fcd9c8-4840-4b29-9b40-40a803d508a6",
   "metadata": {},
   "outputs": [],
   "source": [
    "def plotHeatmap(\n",
    "    s,\n",
    "    col,\n",
    "    fillValue=None,\n",
    "    ynTicks=10,\n",
    "    xnTicks=8,\n",
    "    cbar_label=None,\n",
    "    scaling=1,\n",
    "    vmin=None,\n",
    "    vmax=None,\n",
    "    fig=None,\n",
    "    ax=None,\n",
    "    with_cbar=True,\n",
    "    cbar_nTicks=None,\n",
    "    transpose=True,\n",
    "    cmap=\"viridis\",\n",
    "):\n",
    "    \"\"\"\n",
    "        Plot a heatmap from time series data.\n",
    "        Usage for dataframe df with timestamps in column \"date_time\" and data\n",
    "        to plot in column \"col\" (grouped by frequency 'freq':\n",
    "            df_hmap = df.groupby(pd.Grouper(key='date_time', freq=freq, axis=1))\\\n",
    "                .mean().fillna(method='pad',limit=fillna_limit)\n",
    "            plotting.plotHeatmap(df_hmap, col)\n",
    "        @param pandas.DataFrame s the data frame with the data to plot\n",
    "        @param string col the column in df with the data to plot\n",
    "        @param float fillValue the value to use to fill holes\n",
    "        @param int nTicks the number of y ticks for the plot\n",
    "        @param cbar_label string the label for the color bar\n",
    "        @param float scaling a parameter to rescale the data\n",
    "        @param float vmin min value for color bar\n",
    "        @param float vmax max value for color bar\n",
    "    \"\"\"\n",
    "\n",
    "    if fillValue is None:\n",
    "        fillValue = s[col].min()\n",
    "    if cbar_label is None:\n",
    "        cbar_label = col\n",
    "    if cbar_label == \"forceNone\":\n",
    "        cbar_label = None\n",
    "\n",
    "    df_heatmap = pd.DataFrame(\n",
    "        {\n",
    "            \"date\": s.index.date,\n",
    "            \"time\": s.index.time,\n",
    "            \"value_col\": s[col].values * scaling,\n",
    "        }\n",
    "    )\n",
    "\n",
    "    if vmin is None:\n",
    "        vmin = df_heatmap.value_col.min()\n",
    "    if vmax is None:\n",
    "        vmax = df_heatmap.value_col.max()\n",
    "\n",
    "    df_heatmap = df_heatmap.pivot(index=\"date\", columns=\"time\", values=\"value_col\")\n",
    "    df_heatmap.fillna(value=fillValue, inplace=True)  # fill holes for plotting\n",
    "\n",
    "    if fig is None:\n",
    "        fig = plt.figure(figsize=(10, 10))\n",
    "\n",
    "    if ax is None:\n",
    "        ax = plt.gca()\n",
    "\n",
    "    if transpose:\n",
    "        df_heatmap = df_heatmap.transpose()\n",
    "\n",
    "    cax = ax.pcolor(df_heatmap, cmap=cmap, vmin=vmin, vmax=vmax)\n",
    "\n",
    "    ax.invert_yaxis()\n",
    "    ynTicks = min(len(df_heatmap.index), ynTicks)\n",
    "    xnTicks = min(len(df_heatmap.columns), xnTicks)\n",
    "    ytickPos = range(0, len(df_heatmap.index), int(len(df_heatmap.index) / ynTicks))\n",
    "    xtickPos = range(0, len(df_heatmap.columns), int(len(df_heatmap.columns) / xnTicks))\n",
    "\n",
    "    if with_cbar:\n",
    "        if cbar_label is not None:\n",
    "            cb = plt.colorbar(cax, label=cbar_label, orientation=\"horizontal\")\n",
    "        else:\n",
    "            cb = plt.colorbar(cax, orientation=\"horizontal\")\n",
    "\n",
    "    plt.xticks(\n",
    "        xtickPos, [el.strftime(\"%m-%y\") for el in df_heatmap.columns[xtickPos]]\n",
    "    )\n",
    "    plt.yticks(ytickPos, [el.hour for el in df_heatmap.index[ytickPos]])\n",
    "    plt.ylabel(\"hour\")\n",
    "    plt.xlabel(\"day\")\n",
    "    ax.xaxis.tick_top()\n",
    "    ax.xaxis.set_label_position(\"top\")"
   ]
  },
  {
   "cell_type": "code",
   "execution_count": null,
   "id": "76aa45b8-1514-4bc2-9049-96f6ebe2a400",
   "metadata": {},
   "outputs": [],
   "source": [
    "f, ax = plt.subplots(figsize=(PAGE_WIDTH, 1.5*ROW_HEIGHT))\n",
    "plotHeatmap(co2i, \"CISO\", fig=f, ax=ax, cmap=\"RdYlGn_r\", cbar_label=\"CISO - kg/MWh\")\n",
    "f.tight_layout()\n",
    "f.savefig(join(gridemissions.config[\"APEN_PATH\"], \"CISO_in_2020_A.pdf\"))\n",
    "\n",
    "f, ax = plt.subplots(figsize=(PAGE_WIDTH, 1.5*ROW_HEIGHT))\n",
    "plotHeatmap(co2i, \"CISO\", fig=f, ax=ax, cmap=\"RdYlGn_r\", vmin=100, vmax=900, cbar_label=\"CISO - kg/MWh\")\n",
    "f.tight_layout()\n",
    "f.savefig(join(gridemissions.config[\"APEN_PATH\"], \"CISO_in_2020_B.pdf\"))"
   ]
  },
  {
   "cell_type": "code",
   "execution_count": null,
   "id": "ba1127fb-762b-481c-887e-7e584486326e",
   "metadata": {},
   "outputs": [],
   "source": [
    "n = 40\n",
    "bas = co2.df.loc[start:end, co2.get_cols(field=\"D\")].sum().sort_values(ascending=False).index[0:n]\n",
    "bas = list(map(lambda x: x.split(\"_\")[1], bas))\n",
    "\n",
    "nrows = n // 4\n",
    "\n",
    "f, ax = plt.subplots(nrows, 4, figsize=(1.2*PAGE_WIDTH, nrows/2* ROW_HEIGHT))\n",
    "ax = ax.flatten()\n",
    "\n",
    "for iba, ba in enumerate(bas):\n",
    "    ax[iba].set_title(ba)\n",
    "    with_cbar = False\n",
    "    if iba == len(ax)-2:\n",
    "        with_cbar = True\n",
    "    plotHeatmap(co2i, ba, fig=f, ax=ax[iba], cmap=\"RdYlGn_r\", vmin=100, vmax=900, with_cbar=with_cbar, cbar_label=\"kg/MWh\")\n",
    "\n",
    "\n",
    "for a in ax:\n",
    "    a.set_yticks([])\n",
    "    a.set_xticks([])\n",
    "    a.set_ylabel(\"\")\n",
    "    a.set_xlabel(\"\")\n",
    "    \n",
    "f.tight_layout()\n",
    "f.savefig(join(gridemissions.config[\"APEN_PATH\"], \"top_40_in_2020.pdf\"))"
   ]
  },
  {
   "cell_type": "code",
   "execution_count": null,
   "id": "79c35656-265e-4aec-837e-a39b4d2531f4",
   "metadata": {},
   "outputs": [],
   "source": []
  }
 ],
 "metadata": {
  "kernelspec": {
   "display_name": "Python3.8",
   "language": "python",
   "name": "python3.8"
  },
  "language_info": {
   "codemirror_mode": {
    "name": "ipython",
    "version": 3
   },
   "file_extension": ".py",
   "mimetype": "text/x-python",
   "name": "python",
   "nbconvert_exporter": "python",
   "pygments_lexer": "ipython3",
   "version": "3.8.5"
  }
 },
 "nbformat": 4,
 "nbformat_minor": 5
}
