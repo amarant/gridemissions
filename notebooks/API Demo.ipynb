{
 "cells": [
  {
   "cell_type": "code",
   "execution_count": null,
   "metadata": {},
   "outputs": [],
   "source": [
    "%matplotlib inline\n",
    "import matplotlib.pyplot as plt\n",
    "\n",
    "import pandas as pd\n",
    "from io import StringIO\n",
    "\n",
    "from gridemissions import api, load, viz\n",
    "from gridemissions.viz.jupyter_gui import BaDataGui"
   ]
  },
  {
   "cell_type": "code",
   "execution_count": null,
   "metadata": {},
   "outputs": [],
   "source": [
    "# Download electricity generation data for MISO, ERCO, CISO  for a year:\n",
    "data = api.retrieve(variable=\"elec\", ba=[\"MISO\", \"CISO\", \"ERCO\"], start=\"20190101\", end=\"20200101\", field=\"NG\")\n",
    "pd.read_csv(StringIO(data), index_col=0).head()"
   ]
  },
  {
   "cell_type": "code",
   "execution_count": null,
   "metadata": {},
   "outputs": [],
   "source": [
    "# Download electricity data for all balancing areas for two days\n",
    "data = api.retrieve(variable=\"elec\", ba=[], start=\"20190101\", end=\"20190103\", field=None)\n",
    "data = load.BaData(df=pd.read_csv(StringIO(data), index_col=0))"
   ]
  },
  {
   "cell_type": "code",
   "execution_count": null,
   "metadata": {},
   "outputs": [],
   "source": [
    "BaDataGui(data)"
   ]
  },
  {
   "cell_type": "code",
   "execution_count": null,
   "metadata": {},
   "outputs": [],
   "source": []
  }
 ],
 "metadata": {
  "kernelspec": {
   "display_name": "Python [conda env:py38]",
   "language": "python",
   "name": "conda-env-py38-py"
  },
  "language_info": {
   "codemirror_mode": {
    "name": "ipython",
    "version": 3
   },
   "file_extension": ".py",
   "mimetype": "text/x-python",
   "name": "python",
   "nbconvert_exporter": "python",
   "pygments_lexer": "ipython3",
   "version": "3.8.5"
  }
 },
 "nbformat": 4,
 "nbformat_minor": 4
}
