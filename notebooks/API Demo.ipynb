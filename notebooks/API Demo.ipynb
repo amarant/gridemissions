{
 "cells": [
  {
   "cell_type": "code",
   "execution_count": null,
   "metadata": {},
   "outputs": [],
   "source": [
    "from gridemissions import api\n",
    "\n",
    "# Download electricity generation data for MISO, ERCO, CISO  for a year:\n",
    "data = api.retrieve(variable=\"elec\", ba=[\"MISO\", \"CISO\", \"ERCO\"], start=\"20190101\", end=\"20200101\", field=\"NG\")\n",
    "\n",
    "import pandas as pd\n",
    "from io import StringIO\n",
    "pd.read_csv(StringIO(data), index_col=0).head()"
   ]
  },
  {
   "cell_type": "code",
   "execution_count": null,
   "metadata": {},
   "outputs": [],
   "source": []
  }
 ],
 "metadata": {
  "kernelspec": {
   "display_name": "Python3.8",
   "language": "python",
   "name": "python3.8"
  },
  "language_info": {
   "codemirror_mode": {
    "name": "ipython",
    "version": 3
   },
   "file_extension": ".py",
   "mimetype": "text/x-python",
   "name": "python",
   "nbconvert_exporter": "python",
   "pygments_lexer": "ipython3",
   "version": "3.8.5"
  }
 },
 "nbformat": 4,
 "nbformat_minor": 4
}
